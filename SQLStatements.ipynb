{
 "cells": [
  {
   "cell_type": "code",
   "execution_count": 1,
   "metadata": {},
   "outputs": [
    {
     "ename": "IndentationError",
     "evalue": "expected an indented block (<ipython-input-1-bd1803a857d0>, line 71)",
     "output_type": "error",
     "traceback": [
      "\u001b[0;36m  File \u001b[0;32m\"<ipython-input-1-bd1803a857d0>\"\u001b[0;36m, line \u001b[0;32m71\u001b[0m\n\u001b[0;31m    finally:\u001b[0m\n\u001b[0m            ^\u001b[0m\n\u001b[0;31mIndentationError\u001b[0m\u001b[0;31m:\u001b[0m expected an indented block\n"
     ]
    }
   ],
   "source": [
    "import pymysql\n",
    "import tkinter as tk\n",
    "\n",
    "#Open database connection\n",
    "database = pymysql.connect(\"localhost\", \"root\",\"Diallo1!\", \"Netflix\")\n",
    "\n",
    "try:\n",
    "    \n",
    "    #Cursor object\n",
    "    with database.cursor() as cursor:\n",
    "#         age = [12,34,54,23,20,9,40,13,41,21]\n",
    "#         country = [\"USA\", \"France\", \"UK\", \"Germany\", \"USA\", \"Canada\",\"Russia\", \"Ghana\", \"South Korea\", \"Japan\"]\n",
    "    \n",
    "#         for i in range(10):\n",
    "#             sql = (\"INSERT INTO User(id, username, age, country)\"\n",
    "#                        \"VALUES (%s, %s, %s, %s)\")\n",
    "\n",
    "#             username = \"username\" + str(i)  \n",
    "#             cursor.execute(sql, (i, username, age[i], country[i]))\n",
    "#             database.commit()\n",
    "\n",
    "\n",
    "#         show = [\"Movie\", \"TV Show\"]\n",
    "#         lang = [\"English\", \"Spanish\", \"French\", \"Chinese\", \"Arabic\"]\n",
    "#         genre = [\"Romance\", \"Drama\", \"Action\", \"Mystery\", \"Horror\"]\n",
    "#         year = [\"2010\", \"2012\", \"2013\", \"2014\", \"2015\", \"2016\", \"2017\", \"2018\"]\n",
    "        \n",
    "#         for i in range(20):\n",
    "#             sql = (\"INSERT INTO Shows(id, name, description, language, genre, releaseYear)\"\n",
    "#                     \"VALUES (%s, %s, %s, %s, %s, %s)\")\n",
    "\n",
    "#             showname = show[i % len(show)] + \" \" + str(i)\n",
    "#             descri = \"Sample Show description.......\"\n",
    "#             cursor.execute(sql, (i, showname, descri, lang[i % len(lang)], genre[i % len(genre)], \n",
    "#                                  year[i % len(year)]))\n",
    "    \n",
    "#             database.commit()\n",
    "    \n",
    "#         director_name = [\"John\", \"Linda\", \"Elizabeth\", \"Frank\", \"Joongi\"]\n",
    "        \n",
    "#         for i in range(5):\n",
    "#             cursor.execute(\"INSERT INTO directors(id, name) VALUES(%s, %s)\", (i, director_name[i]))\n",
    "#             database.commit()\n",
    "            \n",
    "            \n",
    "#         season = [\"1\", \"2\", \"3\", \"4\", \"5\"]\n",
    "#         rating = [\"TV-Y\", \"TV-Y7\", \"TV-G\", \"TV-PG\", \"TV-14\", \"TV-MA\"]\n",
    "        \n",
    "#         odd = [\"1\", \"3\", \"5\", \"7\", \"9\", \"11\", \"13\", \"15\", \"17\", \"19\"]\n",
    "#         even = [\"0\", \"2\", \"4\", \"6\", \"8\",\"10\",\"12\", \"14\", \"16\", \"18\"]\n",
    "#         duration = [\"90\", \"123\", \"60\", \"124\"]\n",
    "#         director = [\"0\", \"1\", \"2\", \"3\", \"4\"]\n",
    "        \n",
    "#         insert1 = (\"INSERT INTO TVShows(id, rating, numSeasons)\"\n",
    "#                     \"VALUES (%s, %s, %s)\")\n",
    "#         insert2 = (\"INSERT INTO Movies(id, rating, duration, directorId)\"\n",
    "#                     \"VALUES (%s, %s, %s, %s)\")\n",
    "        \n",
    "#         for i in range(10):\n",
    "#             cursor.execute(insert1,(odd[i], rating[i % len(rating)], \n",
    "#                                     season[i % len(season)]))\n",
    "#             database.commit()\n",
    "            \n",
    "#             cursor.execute(insert2, (even[i], rating[i % len(rating)], \n",
    "#                                      duration[i % len(duration)],\n",
    "#                                      director[i % len(director)]))\n",
    "#             database.commit()\n",
    "        \n",
    "       \n",
    "        \n",
    "finally:\n",
    "    database.close()\n",
    "        "
   ]
  },
  {
   "cell_type": "code",
   "execution_count": null,
   "metadata": {},
   "outputs": [],
   "source": []
  },
  {
   "cell_type": "code",
   "execution_count": null,
   "metadata": {},
   "outputs": [],
   "source": []
  }
 ],
 "metadata": {
  "kernelspec": {
   "display_name": "Python 3",
   "language": "python",
   "name": "python3"
  },
  "language_info": {
   "codemirror_mode": {
    "name": "ipython",
    "version": 3
   },
   "file_extension": ".py",
   "mimetype": "text/x-python",
   "name": "python",
   "nbconvert_exporter": "python",
   "pygments_lexer": "ipython3",
   "version": "3.7.0"
  }
 },
 "nbformat": 4,
 "nbformat_minor": 2
}
